{
 "cells": [
  {
   "cell_type": "code",
   "execution_count": null,
   "id": "4cd3833f-39ac-4396-adbf-bb15faac30d7",
   "metadata": {},
   "outputs": [],
   "source": [
    "from pyspark.sql import SparkSession\n",
    "spark = (SparkSession\n",
    "         .builder\n",
    "         .appName(\"Jupyter\")\n",
    "         .config('spark.jars.packages', \"mysql-connector-j-8.0.31.jar\")\n",
    "         .getOrCreate()\n",
    ")"
   ]
  },
  {
   "cell_type": "code",
   "execution_count": null,
   "id": "eeffec92-158b-41ae-8adb-1d83c8a96df4",
   "metadata": {},
   "outputs": [],
   "source": [
    "spark"
   ]
  },
  {
   "cell_type": "markdown",
   "id": "bb456686-7dfa-44c2-930d-9d9b317d0bd4",
   "metadata": {},
   "source": [
    "#### Read and load init data to iceberg"
   ]
  },
  {
   "cell_type": "code",
   "execution_count": null,
   "id": "39f44690-61d9-4616-95fb-b508f7a5944b",
   "metadata": {},
   "outputs": [],
   "source": [
    "df = spark.read \\\n",
    "    .format(\"jdbc\") \\\n",
    "    .option(\"url\", \"jdbc:mysql://mysql:3306\") \\\n",
    "    .option(\"user\", \"root\") \\\n",
    "    .option(\"password\", \"example\") \\\n",
    "    .option(\"query\", \"SELECT * FROM dims.accounts\") \\\n",
    "    .load()"
   ]
  },
  {
   "cell_type": "code",
   "execution_count": null,
   "id": "3357c905-c025-4c17-904e-f0b0fe55d03e",
   "metadata": {},
   "outputs": [],
   "source": [
    "df.show(truncate=False)"
   ]
  },
  {
   "cell_type": "code",
   "execution_count": null,
   "id": "fb4979e6-06d9-4c34-908a-c0d567216878",
   "metadata": {},
   "outputs": [],
   "source": [
    "%%sql\n",
    "CREATE DATABASE IF NOT EXISTS dims"
   ]
  },
  {
   "cell_type": "code",
   "execution_count": null,
   "id": "7eb8acec-1d22-4ea3-8bdd-5279fb3f9e57",
   "metadata": {},
   "outputs": [],
   "source": [
    "%%sql\n",
    "DROP TABLE IF EXISTS dims.accounts"
   ]
  },
  {
   "cell_type": "code",
   "execution_count": null,
   "id": "2143d7a6-c59f-4d9c-992f-212a084c2d84",
   "metadata": {},
   "outputs": [],
   "source": [
    "df.write.saveAsTable(\"dims.accounts\")"
   ]
  },
  {
   "cell_type": "code",
   "execution_count": null,
   "id": "086a20b7-fb8a-415b-b6af-71c80d3a648b",
   "metadata": {},
   "outputs": [],
   "source": [
    "spark.sql(\"\"\"SELECT * FROM dims.accounts\"\"\").show(truncate=False)"
   ]
  },
  {
   "cell_type": "markdown",
   "id": "d67654d1-2699-447f-8ad2-0af4433d8479",
   "metadata": {},
   "source": [
    "Tables by default are not configured to allow integrated audits, therefore the first step is enabling this by setting the write.wap.enabled table metadata property to true"
   ]
  },
  {
   "cell_type": "code",
   "execution_count": null,
   "id": "3b9e6398-0940-419e-a9a3-c22839442163",
   "metadata": {},
   "outputs": [],
   "source": [
    "%%sql\n",
    "\n",
    "ALTER TABLE dims.accounts\n",
    "SET TBLPROPERTIES ('write.wap.enabled' = 'true')"
   ]
  },
  {
   "cell_type": "code",
   "execution_count": null,
   "id": "65d2ea3c-5fed-417e-b6a9-7faae168fb73",
   "metadata": {},
   "outputs": [],
   "source": [
    "%%sql\n",
    "\n",
    "ALTER TABLE dims.accounts CREATE BRANCH daily_load"
   ]
  },
  {
   "cell_type": "code",
   "execution_count": null,
   "id": "40858de6-44d8-41c0-87e6-eb96be7d285f",
   "metadata": {},
   "outputs": [],
   "source": [
    "spark.conf.set('spark.wap.branch', 'daily_load')"
   ]
  },
  {
   "cell_type": "markdown",
   "id": "69ee1274-ae30-4781-801f-c132cfcc7616",
   "metadata": {},
   "source": [
    "##### ** Let's assume in this point of time that some change was made to one accounts `status` in mysql `accounts`table."
   ]
  },
  {
   "cell_type": "markdown",
   "id": "4e282ed0-37fd-4e86-b5bc-9ffafab2bc9f",
   "metadata": {},
   "source": [
    "# Loading the changes from mysql"
   ]
  },
  {
   "cell_type": "code",
   "execution_count": null,
   "id": "bf264537-cb35-47e5-a83b-8f9aca47540f",
   "metadata": {},
   "outputs": [],
   "source": [
    "df = spark.read \\\n",
    "    .format(\"jdbc\") \\\n",
    "    .option(\"url\", \"jdbc:mysql://mysql:3306\") \\\n",
    "    .option(\"user\", \"root\") \\\n",
    "    .option(\"password\", \"example\") \\\n",
    "    .option(\"query\", \"SELECT * FROM dims.accounts\") \\\n",
    "    .load()"
   ]
  },
  {
   "cell_type": "code",
   "execution_count": null,
   "id": "6f1145d1-0b3d-45d4-a997-64d557f9e12b",
   "metadata": {},
   "outputs": [],
   "source": [
    "df.createOrReplaceTempView(\"raw_accounts\")"
   ]
  },
  {
   "cell_type": "markdown",
   "id": "d1d1b1c4-0c72-4d1d-9632-0f294dbf80c2",
   "metadata": {},
   "source": [
    "#### Let's check how the data looks in the in the branch:"
   ]
  },
  {
   "cell_type": "code",
   "execution_count": null,
   "id": "75f999f1-b387-42d7-a074-b3ee36950aed",
   "metadata": {},
   "outputs": [],
   "source": [
    "%%sql\n",
    "\n",
    "SELECT *\n",
    "FROM dims.accounts VERSION AS OF 'daily_load'"
   ]
  },
  {
   "cell_type": "markdown",
   "id": "c47ed981-c428-4475-b5e1-879423489299",
   "metadata": {},
   "source": [
    "#### Merging the data into wap branch"
   ]
  },
  {
   "cell_type": "code",
   "execution_count": null,
   "id": "3b504f71-b593-4b01-8b77-27e7d074bf94",
   "metadata": {},
   "outputs": [],
   "source": [
    "spark.sql(\"\"\"\n",
    "    MERGE INTO dims.accounts t\n",
    "    USING raw_accounts s\n",
    "        ON t.id = s.id\n",
    "    WHEN MATCHED\n",
    "        THEN UPDATE SET \n",
    "            name = s.name,\n",
    "            status = s.status,\n",
    "            owner = s.owner\n",
    "    WHEN NOT MATCHED\n",
    "        THEN INSERT (id, name, status, owner, created_at) VALUES (s.id, s.name, s.status, s.owner, s.created_at)\"\"\"\n",
    ")"
   ]
  },
  {
   "cell_type": "markdown",
   "id": "f0dcc553-599e-4261-8255-9ef41ff9a737",
   "metadata": {},
   "source": [
    "#### Peaking at the changes after MERGE"
   ]
  },
  {
   "cell_type": "code",
   "execution_count": null,
   "id": "ab400a27-3c98-45c1-94a1-3bf3eb0b26eb",
   "metadata": {},
   "outputs": [],
   "source": [
    "%%sql\n",
    "SELECT * FROM dims.accounts VERSION AS OF 'daily_load'"
   ]
  },
  {
   "cell_type": "code",
   "execution_count": null,
   "id": "5912739b-7b89-408a-9411-f2b64dc8b586",
   "metadata": {},
   "outputs": [],
   "source": []
  },
  {
   "cell_type": "markdown",
   "id": "3fd2d3bb-49e4-4168-bf91-684eac67c7bb",
   "metadata": {},
   "source": [
    "### Auditing the results"
   ]
  },
  {
   "cell_type": "code",
   "execution_count": null,
   "id": "321c0d56-786b-4626-9f5b-a48d7aa16140",
   "metadata": {},
   "outputs": [],
   "source": [
    "distinct_statuses = (spark.read\n",
    "    .option(\"branch\", \"daily_load\")\n",
    "    .format(\"iceberg\")\n",
    "    .load(\"dims.accounts\")\n",
    "    .select(\"status\")\n",
    "    .distinct()\n",
    "    .toLocalIterator()\n",
    ")\n",
    "statues = {row[0] for row in distinct_statuses}"
   ]
  },
  {
   "cell_type": "code",
   "execution_count": null,
   "id": "5e7401a9-ce47-48c4-ab76-5ca383b27b61",
   "metadata": {},
   "outputs": [],
   "source": [
    "allowed_statues = ['active', 'in_review', 'declined', 'submitted']\n",
    "if statues not in allowed_statues:\n",
    "    raise ValueError(f\"Audit failed, status set does not match expected values: {statues} != {allowed_statues}\")\n",
    "else:\n",
    "    print(f\"Audit has passed 🙌🏻\")"
   ]
  },
  {
   "cell_type": "markdown",
   "id": "ea23c4ed-3857-427e-a1c1-0a84a12bf79c",
   "metadata": {},
   "source": [
    "### Merging audit-branch to main"
   ]
  },
  {
   "cell_type": "code",
   "execution_count": null,
   "id": "a520516e-3b99-4406-80c7-adab5a70cf34",
   "metadata": {},
   "outputs": [],
   "source": [
    "spark.sql(\"CALL system.fast_forward('dims.accounts', 'main', 'daily_load')\")"
   ]
  },
  {
   "cell_type": "code",
   "execution_count": null,
   "id": "ef29996c-c288-4100-a076-5ef6feb5e295",
   "metadata": {},
   "outputs": [],
   "source": [
    "## Peaking at the final result"
   ]
  },
  {
   "cell_type": "code",
   "execution_count": null,
   "id": "3d3dffcd-fc82-4858-a5d6-aa3a805f1a03",
   "metadata": {},
   "outputs": [],
   "source": [
    "%%sql\n",
    "    \n",
    "SELECT* FROM dims.accounts"
   ]
  }
 ],
 "metadata": {
  "kernelspec": {
   "display_name": "Python 3 (ipykernel)",
   "language": "python",
   "name": "python3"
  },
  "language_info": {
   "codemirror_mode": {
    "name": "ipython",
    "version": 3
   },
   "file_extension": ".py",
   "mimetype": "text/x-python",
   "name": "python",
   "nbconvert_exporter": "python",
   "pygments_lexer": "ipython3",
   "version": "3.9.18"
  }
 },
 "nbformat": 4,
 "nbformat_minor": 5
}
